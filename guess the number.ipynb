{
 "cells": [
  {
   "cell_type": "code",
   "execution_count": 2,
   "metadata": {},
   "outputs": [
    {
     "name": "stdout",
     "output_type": "stream",
     "text": [
      "Your guess is right\n",
      "Your guess is right\n",
      "The number is too high\n"
     ]
    }
   ],
   "source": [
    "# generate a random number\n",
    "# user guess the number\n",
    "import random\n",
    "num = random.randint(10,20)\n",
    "guess = None\n",
    "\n",
    "while guess!= num:\n",
    "    guess = input(\"Guess a number between 10 and 20 \")\n",
    "    guess = int(guess)\n",
    "    if guess > 20:\n",
    "        print(\"The number is too high\")\n",
    "    if guess < 10:\n",
    "        print(\"The number is too low\")    \n",
    "    if 10 <= guess <= 20: \n",
    "        print(\"Your guess is right\")  \n",
    "    else:   \n",
    "        break\n",
    "\n"
   ]
  },
  {
   "cell_type": "code",
   "execution_count": null,
   "metadata": {},
   "outputs": [],
   "source": []
  }
 ],
 "metadata": {
  "kernelspec": {
   "display_name": "Python 3",
   "language": "python",
   "name": "python3"
  },
  "language_info": {
   "codemirror_mode": {
    "name": "ipython",
    "version": 3
   },
   "file_extension": ".py",
   "mimetype": "text/x-python",
   "name": "python",
   "nbconvert_exporter": "python",
   "pygments_lexer": "ipython3",
   "version": "3.10.7"
  },
  "orig_nbformat": 4,
  "vscode": {
   "interpreter": {
    "hash": "98590ff4fe04c8543246b2a01debd3de3c5ca9b666f43f1fa87d5110c692004c"
   }
  }
 },
 "nbformat": 4,
 "nbformat_minor": 2
}
