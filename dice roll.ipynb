{
 "cells": [
  {
   "cell_type": "code",
   "execution_count": 1,
   "metadata": {},
   "outputs": [
    {
     "name": "stdout",
     "output_type": "stream",
     "text": [
      "4\n",
      "The number is\n",
      "5\n",
      "The number is\n",
      "4\n",
      "Thank you\n"
     ]
    }
   ],
   "source": [
    "import random\n",
    "min = 1 \n",
    "max = 6\n",
    "dice = random.randint(min,max)\n",
    "print (dice)\n",
    "while True:\n",
    "    entry = input(\"would you like to roll again?\")\n",
    "    if entry == \"Yes\" or entry == \"yes\":\n",
    "        print (\"The number is\") \n",
    "        dice = random.randint(min,max)\n",
    "        print (dice)\n",
    "    else:\n",
    "        break   \n",
    "print (\"Thank you\")"
   ]
  },
  {
   "cell_type": "code",
   "execution_count": null,
   "metadata": {},
   "outputs": [],
   "source": []
  }
 ],
 "metadata": {
  "kernelspec": {
   "display_name": "Python 3",
   "language": "python",
   "name": "python3"
  },
  "language_info": {
   "codemirror_mode": {
    "name": "ipython",
    "version": 3
   },
   "file_extension": ".py",
   "mimetype": "text/x-python",
   "name": "python",
   "nbconvert_exporter": "python",
   "pygments_lexer": "ipython3",
   "version": "3.10.7 (v3.10.7:6cc6b13308, Sep  5 2022, 14:02:52) [Clang 13.0.0 (clang-1300.0.29.30)]"
  },
  "orig_nbformat": 4,
  "vscode": {
   "interpreter": {
    "hash": "98590ff4fe04c8543246b2a01debd3de3c5ca9b666f43f1fa87d5110c692004c"
   }
  }
 },
 "nbformat": 4,
 "nbformat_minor": 2
}
