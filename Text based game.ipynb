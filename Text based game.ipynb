{
 "cells": [
  {
   "cell_type": "code",
   "execution_count": null,
   "metadata": {},
   "outputs": [],
   "source": [
    "room_number = None\n",
    "\n",
    "# Welcome the player\n",
    "\n",
    "print(\"\"\"Welcome to the adventure house\n",
    "Are you ready to play?\n",
    "let's start!!\n",
    "Remember you are at the center of the adventure house and you need to choose a direction to go to\"\"\")\n",
    "\n",
    "#Game Loop\n",
    "\n",
    "entry = input(\"What direction do you want to go to? forward or backward ?\")\n",
    "if entry == \"forward\" :\n",
    "  print(\"You need to select a room. Each room has diffrent door number.\")\n",
    "  door_number = input(\"Choose the door number 1, 2, or 3\")\n",
    "  if door_number == \"1\" :\n",
    "    print (\"You are now at the most dangerous room, If you want to run away say yes\")\n",
    "    run_away = input(\"Would you like to run away?\")\n",
    "    if run_away == \"yes\":\n",
    "     print (\"No Worries, You are safe now. Choose another room\")\n",
    "    door_number = input(\"Choose the door number 1, 2, or 3\")\n",
    "  if door_number == \"2\" :\n",
    "    print (\"Welcome to the Baby room. If it is too noisy here, you can go to another room\")\n",
    "    choose = input(\"Would you like to leave the room?\")\n",
    "    if choose == \"yes\":\n",
    "      door_number = input(\"Choose the door number 1, 2, or 3\")\n",
    "  if door_number == \"3\" :\n",
    "    print(\"You are lucky!!! This room has a treasure box for you\")\n",
    "    choose1 = input (\"Would you like to take your treasure and end the game?\")\n",
    "    if choose1 == \"yes\":\n",
    "      print(\"Congratulation for your win\")\n",
    "    else:\n",
    "      print(\"No worries continue the game by choosing a direction to go to\")\n",
    "entry = input(\"What direction do you want to go to? forward or backward ?\") \n",
    "if entry == \"backward\" :\n",
    "  print(\"You need to select a room. Each room has diffrent door number.\")\n",
    "  door_number = input(\"Choose the door number 4, 5, or 6\")\n",
    "  if door_number == \"4\" :\n",
    "    print (\"You are now at the bathroom, If you want to use it. It's fine\")\n",
    "    leave1 = input(\"Would you like to leave the bathroom?\")\n",
    "    if leave1 == \"yes\":\n",
    "     print (\"No Worries, You are out now. Choose another room\")\n",
    "    door_number = input(\"Choose the door number 4, 5, or 6\")\n",
    "  if door_number == \"5\" :\n",
    "    print (\"Welcome to the Kitchen. You can grab something to eat from the fridge then you can go to another room\")\n",
    "    choose = input(\"Would you like to leave the room?\")\n",
    "    if choose == \"yes\":\n",
    "      door_number = input(\"Choose the door number 4, 5, or 6\")\n",
    "  if door_number == \"6\" :\n",
    "    print(\"You are at the laundry room, Please put the washing machine on\")\n",
    "    choose1 = input (\"Did you put the washing machine on?\")\n",
    "    if choose1 == \"yes\":\n",
    "      print(\"Congratulation you will get a reward for your help\")\n",
    "    else:\n",
    "      print(\"You are not kind enough\")\n",
    "  else:\n",
    "      print(\"No worries continue the game by choosing a direction to go to\")\n",
    "else:\n",
    "    print(\"Sorry but your decision is wrong.\")"
   ]
  }
 ],
 "metadata": {
  "kernelspec": {
   "display_name": "Python 3",
   "language": "python",
   "name": "python3"
  },
  "language_info": {
   "codemirror_mode": {
    "name": "ipython",
    "version": 3
   },
   "file_extension": ".py",
   "mimetype": "text/x-python",
   "name": "python",
   "nbconvert_exporter": "python",
   "pygments_lexer": "ipython3",
   "version": "3.10.7"
  },
  "orig_nbformat": 4,
  "vscode": {
   "interpreter": {
    "hash": "98590ff4fe04c8543246b2a01debd3de3c5ca9b666f43f1fa87d5110c692004c"
   }
  }
 },
 "nbformat": 4,
 "nbformat_minor": 2
}
