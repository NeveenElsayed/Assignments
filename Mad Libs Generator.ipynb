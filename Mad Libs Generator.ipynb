{
 "cells": [
  {
   "cell_type": "code",
   "execution_count": 5,
   "metadata": {},
   "outputs": [
    {
     "name": "stdout",
     "output_type": "stream",
     "text": [
      "I woke up in the morning at 7am, went to the toilet, and had jumper and trouser on.Afterthen, I had tea with my breakfast.\n"
     ]
    }
   ],
   "source": [
    "#List of inputs.\n",
    "Wake_up_time = input(\"When did you wake up?: \")\n",
    "Toilet = input(\"What did you do next?: \")\n",
    "Clothes = input(\"What did you wear?: \")\n",
    "drink = input(\"Did you get tea or coffee?: \")\n",
    "#Premade story template.\n",
    "story = f\"I woke up in the morning at {Wake_up_time}, {Toilet}, and had {Clothes} on.\\\n",
    "Afterthen, I had {drink} with my breakfast.\" \n",
    "\n",
    "print (story)\n",
    "\n"
   ]
  },
  {
   "cell_type": "code",
   "execution_count": null,
   "metadata": {},
   "outputs": [],
   "source": []
  }
 ],
 "metadata": {
  "kernelspec": {
   "display_name": "Python 3",
   "language": "python",
   "name": "python3"
  },
  "language_info": {
   "codemirror_mode": {
    "name": "ipython",
    "version": 3
   },
   "file_extension": ".py",
   "mimetype": "text/x-python",
   "name": "python",
   "nbconvert_exporter": "python",
   "pygments_lexer": "ipython3",
   "version": "3.10.7"
  },
  "orig_nbformat": 4,
  "vscode": {
   "interpreter": {
    "hash": "98590ff4fe04c8543246b2a01debd3de3c5ca9b666f43f1fa87d5110c692004c"
   }
  }
 },
 "nbformat": 4,
 "nbformat_minor": 2
}
